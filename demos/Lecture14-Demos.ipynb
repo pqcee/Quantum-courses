{
 "cells": [
  {
   "cell_type": "markdown",
   "metadata": {},
   "source": [
    "# Demos: Lecture 14"
   ]
  },
  {
   "cell_type": "markdown",
   "metadata": {},
   "source": [
    "## Demo 1: QFT from scratch"
   ]
  },
  {
   "cell_type": "markdown",
   "metadata": {},
   "source": [
    "<img src=\"fig/qft-full.png\" width=\"800px\">"
   ]
  },
  {
   "cell_type": "markdown",
   "metadata": {},
   "source": [
    "$$\n",
    "R_k = \\begin{pmatrix} 1 & 0 \\\\ 0 & e^{2\\pi i/2^k} \\end{pmatrix}\n",
    "$$"
   ]
  },
  {
   "cell_type": "code",
   "execution_count": 1,
   "metadata": {},
   "outputs": [],
   "source": [
    "import pennylane as qml\n",
    "import numpy as np"
   ]
  },
  {
   "cell_type": "code",
   "execution_count": 2,
   "metadata": {},
   "outputs": [],
   "source": [
    "def apply_swaps(wires=None):\n",
    "    for wire_idx in range(len(wires)//2):\n",
    "        qml.SWAP(wires=[wire_idx, len(wires) - wire_idx - 1])"
   ]
  },
  {
   "cell_type": "code",
   "execution_count": 3,
   "metadata": {},
   "outputs": [],
   "source": [
    "def apply_controlled_rotations(target_idx=None, wires=None):\n",
    "    qml.Hadamard(wires=target_idx)\n",
    "    \n",
    "    for idx, control_wire in enumerate(range(target_idx + 1, len(dev.wires))):\n",
    "        qml.ControlledPhaseShift(\n",
    "            2 * np.pi / (2 ** (idx + 2)), \n",
    "            wires=[control_wire, target_idx]\n",
    "        )"
   ]
  },
  {
   "cell_type": "code",
   "execution_count": 4,
   "metadata": {},
   "outputs": [],
   "source": [
    "dev = qml.device('default.qubit', wires=5)\n",
    "\n",
    "@qml.qnode(dev)\n",
    "def QFT_circuit():\n",
    "    for target_wire in dev.wires:\n",
    "        apply_controlled_rotations(target_wire, wires=dev.wires)\n",
    "    apply_swaps(wires=dev.wires)\n",
    "    return qml.state()"
   ]
  },
  {
   "cell_type": "code",
   "execution_count": 5,
   "metadata": {},
   "outputs": [
    {
     "name": "stdout",
     "output_type": "stream",
     "text": [
      "0: ──H─╭Rϕ(1.57)─╭Rϕ(0.79)─╭Rϕ(0.39)─╭Rϕ(0.20)──────────────────────────────────────────────\n",
      "1: ────╰●────────│─────────│─────────│──────────H─╭Rϕ(1.57)─╭Rϕ(0.79)─╭Rϕ(0.39)─────────────\n",
      "2: ──────────────╰●────────│─────────│────────────╰●────────│─────────│──────────H─╭Rϕ(1.57)\n",
      "3: ────────────────────────╰●────────│──────────────────────╰●────────│────────────╰●───────\n",
      "4: ──────────────────────────────────╰●───────────────────────────────╰●────────────────────\n",
      "\n",
      "────────────────────────────╭SWAP───────┤  State\n",
      "────────────────────────────│─────╭SWAP─┤  State\n",
      "──╭Rϕ(0.79)─────────────────│─────│─────┤  State\n",
      "──│──────────H─╭Rϕ(1.57)────│─────╰SWAP─┤  State\n",
      "──╰●───────────╰●─────────H─╰SWAP───────┤  State\n"
     ]
    }
   ],
   "source": [
    "print(qml.draw(QFT_circuit)())"
   ]
  },
  {
   "cell_type": "markdown",
   "metadata": {},
   "source": [
    "## Demo 2: QFT from template"
   ]
  },
  {
   "cell_type": "code",
   "execution_count": 6,
   "metadata": {},
   "outputs": [],
   "source": [
    "@qml.qnode(dev)\n",
    "def QFT_template():\n",
    "    qml.QFT(wires=dev.wires)\n",
    "    return qml.state()\n",
    "                                  "
   ]
  },
  {
   "cell_type": "code",
   "execution_count": 7,
   "metadata": {},
   "outputs": [
    {
     "name": "stdout",
     "output_type": "stream",
     "text": [
      "0: ─╭QFT─┤  State\n",
      "1: ─├QFT─┤  State\n",
      "2: ─├QFT─┤  State\n",
      "3: ─├QFT─┤  State\n",
      "4: ─╰QFT─┤  State\n"
     ]
    }
   ],
   "source": [
    "print(qml.draw(QFT_template)())"
   ]
  },
  {
   "cell_type": "code",
   "execution_count": 8,
   "metadata": {},
   "outputs": [],
   "source": [
    "@qml.qnode(dev)\n",
    "def QFT_template():\n",
    "    qml.QFT.compute_decomposition(wires=dev.wires, n_wires=len(dev.wires))\n",
    "    return qml.state()         "
   ]
  },
  {
   "cell_type": "code",
   "execution_count": 9,
   "metadata": {},
   "outputs": [
    {
     "name": "stdout",
     "output_type": "stream",
     "text": [
      "0: ──H─╭Rϕ(1.57)─╭Rϕ(0.79)─╭Rϕ(0.39)─╭Rϕ(0.20)──────────────────────────────────────────────\n",
      "1: ────╰●────────│─────────│─────────│──────────H─╭Rϕ(1.57)─╭Rϕ(0.79)─╭Rϕ(0.39)─────────────\n",
      "2: ──────────────╰●────────│─────────│────────────╰●────────│─────────│──────────H─╭Rϕ(1.57)\n",
      "3: ────────────────────────╰●────────│──────────────────────╰●────────│────────────╰●───────\n",
      "4: ──────────────────────────────────╰●───────────────────────────────╰●────────────────────\n",
      "\n",
      "────────────────────────────╭SWAP───────┤  State\n",
      "────────────────────────────│─────╭SWAP─┤  State\n",
      "──╭Rϕ(0.79)─────────────────│─────│─────┤  State\n",
      "──│──────────H─╭Rϕ(1.57)────│─────╰SWAP─┤  State\n",
      "──╰●───────────╰●─────────H─╰SWAP───────┤  State\n"
     ]
    }
   ],
   "source": [
    "print(qml.draw(QFT_template)())"
   ]
  },
  {
   "cell_type": "markdown",
   "metadata": {},
   "source": [
    "## Demo 3: QPE for the $T$ gate"
   ]
  },
  {
   "cell_type": "code",
   "execution_count": 12,
   "metadata": {},
   "outputs": [],
   "source": [
    "dev = qml.device(\"default.qubit\", wires=4, shots=1)\n",
    "\n",
    "@qml.qnode(dev)\n",
    "def qft_for_t():\n",
    "    # Prepare eigenstate |1> on last qubit\n",
    "    qml.PauliX(wires=3)\n",
    "\n",
    "    # Prepare estimation register\n",
    "    for wire in range(3):\n",
    "        qml.Hadamard(wires=wire)\n",
    "\n",
    "    # Controlled rotations\n",
    "    qml.ctrl(qml.PauliZ, control=0)(wires=3)\n",
    "    qml.ctrl(qml.S, control=1)(wires=3)\n",
    "    qml.ctrl(qml.T, control=2)(wires=3)\n",
    "\n",
    "    # Inverse QFT\n",
    "    qml.adjoint(qml.QFT)(wires=[0, 1, 2])\n",
    "\n",
    "    return qml.sample()    "
   ]
  },
  {
   "cell_type": "code",
   "execution_count": 14,
   "metadata": {},
   "outputs": [
    {
     "data": {
      "text/plain": [
       "tensor([0, 0, 1, 1], requires_grad=True)"
      ]
     },
     "execution_count": 14,
     "metadata": {},
     "output_type": "execute_result"
    }
   ],
   "source": [
    "qft_for_t()"
   ]
  },
  {
   "cell_type": "code",
   "execution_count": null,
   "metadata": {},
   "outputs": [],
   "source": []
  }
 ],
 "metadata": {
  "kernelspec": {
   "display_name": "Python 3 (ipykernel)",
   "language": "python",
   "name": "python3"
  },
  "language_info": {
   "codemirror_mode": {
    "name": "ipython",
    "version": 3
   },
   "file_extension": ".py",
   "mimetype": "text/x-python",
   "name": "python",
   "nbconvert_exporter": "python",
   "pygments_lexer": "ipython3",
   "version": "3.12.0"
  }
 },
 "nbformat": 4,
 "nbformat_minor": 4
}
