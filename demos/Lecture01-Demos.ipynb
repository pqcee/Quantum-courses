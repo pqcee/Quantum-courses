{
 "cells": [
  {
   "cell_type": "markdown",
   "id": "0d4c8b79-06f9-4a6a-837e-764478e27301",
   "metadata": {},
   "source": [
    "# Demos: Lecture 1"
   ]
  },
  {
   "cell_type": "code",
   "execution_count": 1,
   "id": "8b8e51c7-0efe-47fc-aad5-ddfd356d27da",
   "metadata": {},
   "outputs": [],
   "source": [
    "import numpy as np"
   ]
  },
  {
   "cell_type": "markdown",
   "id": "47c7e766-bcd5-4515-af8b-084afe357729",
   "metadata": {},
   "source": [
    "## Demo 1: superposition"
   ]
  },
  {
   "cell_type": "code",
   "execution_count": 2,
   "id": "7c51b4cb-dffe-4f62-8dd8-3daa329afd3d",
   "metadata": {},
   "outputs": [],
   "source": [
    "def ket_0():\n",
    "    return np.array([1, 0])\n",
    "\n",
    "def ket_1():\n",
    "    return np.array([0, 1])"
   ]
  },
  {
   "cell_type": "code",
   "execution_count": 3,
   "id": "3efe4921-6ffb-492e-89d1-77e40f98672d",
   "metadata": {},
   "outputs": [],
   "source": [
    "def superposition(alpha, beta):\n",
    "    return alpha * ket_0() + beta * ket_1()"
   ]
  },
  {
   "cell_type": "code",
   "execution_count": 4,
   "id": "f88370e2-4b43-4e50-84ee-aa60e66454d2",
   "metadata": {},
   "outputs": [
    {
     "data": {
      "text/plain": [
       "array([0.70710678, 0.70710678])"
      ]
     },
     "execution_count": 4,
     "metadata": {},
     "output_type": "execute_result"
    }
   ],
   "source": [
    "superposition(1/np.sqrt(2), 1/np.sqrt(2))"
   ]
  },
  {
   "cell_type": "markdown",
   "id": "c49e68f5-9559-45c6-ad45-4828d864c9ec",
   "metadata": {},
   "source": [
    "## Demo 2: operations on qubits"
   ]
  },
  {
   "cell_type": "code",
   "execution_count": 5,
   "id": "1f9dc694-c9af-4886-8d8d-63226cc53ff2",
   "metadata": {},
   "outputs": [],
   "source": [
    "def apply_U(U, state):\n",
    "    return np.dot(U, state)"
   ]
  },
  {
   "cell_type": "code",
   "execution_count": 6,
   "id": "d9966925-463c-4f30-9b1d-a3566e144dee",
   "metadata": {},
   "outputs": [],
   "source": [
    "H = (1/np.sqrt(2)) * np.array([[1, 1], [1, -1]])\n",
    "X = np.array([[0, 1], [1, 0]])\n",
    "Z = np.array([[1, 0], [0, -1]])"
   ]
  },
  {
   "cell_type": "code",
   "execution_count": 7,
   "id": "363fd344-5326-4cb0-a507-1794c7b0aec8",
   "metadata": {},
   "outputs": [
    {
     "data": {
      "text/plain": [
       "array([0.70710678, 0.70710678])"
      ]
     },
     "execution_count": 7,
     "metadata": {},
     "output_type": "execute_result"
    }
   ],
   "source": [
    "apply_U(H, ket_0())"
   ]
  },
  {
   "cell_type": "code",
   "execution_count": 8,
   "id": "f09b8179-7256-495c-bc67-10eb429d728e",
   "metadata": {},
   "outputs": [
    {
     "data": {
      "text/plain": [
       "array([1.00000000e+00, 2.23711432e-17])"
      ]
     },
     "execution_count": 8,
     "metadata": {},
     "output_type": "execute_result"
    }
   ],
   "source": [
    "apply_U(H, apply_U(H, ket_0()))"
   ]
  },
  {
   "cell_type": "code",
   "execution_count": 9,
   "id": "6712206d-f896-4c3d-9745-2ddb59a269dc",
   "metadata": {},
   "outputs": [],
   "source": [
    "def apply_multiple_U(list_U, state):\n",
    "    for U in list_U:\n",
    "        state = apply_U(U, state)\n",
    "    return state"
   ]
  },
  {
   "cell_type": "code",
   "execution_count": 10,
   "id": "ae3ce0e4-4618-4adc-8d58-dcc7788eff4f",
   "metadata": {},
   "outputs": [
    {
     "data": {
      "text/plain": [
       "array([-0.70710678,  0.70710678])"
      ]
     },
     "execution_count": 10,
     "metadata": {},
     "output_type": "execute_result"
    }
   ],
   "source": [
    "apply_multiple_U([H, Z, X], ket_0())"
   ]
  },
  {
   "cell_type": "markdown",
   "id": "1beeb594-75d4-4578-982d-d6257b353e9b",
   "metadata": {},
   "source": [
    "## Demo 3: measurement"
   ]
  },
  {
   "cell_type": "code",
   "execution_count": 11,
   "id": "5acf15d6-3f5c-4499-9d38-3cd6f865bedb",
   "metadata": {},
   "outputs": [],
   "source": [
    "def measure(state, shots=50):\n",
    "    prob_0 = np.abs(state[0]) ** 2\n",
    "    # prob_0 = state[0] * state[0].conj()\n",
    "    \n",
    "    prob_1 = np.abs(np.vdot(ket_1(), state)) ** 2\n",
    "    \n",
    "    return np.random.choice([0, 1], size=shots, p=[prob_0, prob_1])"
   ]
  },
  {
   "cell_type": "code",
   "execution_count": 12,
   "id": "e92834ce-7b0e-492f-94e2-bb7198381ba6",
   "metadata": {},
   "outputs": [],
   "source": [
    "some_state = apply_multiple_U([H, Z, X], ket_0())"
   ]
  },
  {
   "cell_type": "code",
   "execution_count": 13,
   "id": "5bdda64b-7fea-43e7-9c17-a422bd09c864",
   "metadata": {},
   "outputs": [
    {
     "data": {
      "text/plain": [
       "array([1, 0, 1, 1, 0, 1, 0, 1, 1, 0, 1, 1, 0, 0, 1, 0, 0, 1, 0, 0])"
      ]
     },
     "execution_count": 13,
     "metadata": {},
     "output_type": "execute_result"
    }
   ],
   "source": [
    "measure(some_state, shots=20)"
   ]
  },
  {
   "cell_type": "code",
   "execution_count": 14,
   "id": "225a1cdd-618d-4abd-b3bd-a0fe528241ca",
   "metadata": {},
   "outputs": [],
   "source": [
    "def quantum_algorithm():\n",
    "    state = superposition(1j/2, np.sqrt(3)/2)\n",
    "    state = apply_multiple_U([Z, H, X, H, X, H], state)\n",
    "    return measure(state)"
   ]
  },
  {
   "cell_type": "code",
   "execution_count": 15,
   "id": "b9ffd0dc-480a-43d2-87c1-cd6350f0025c",
   "metadata": {},
   "outputs": [
    {
     "data": {
      "text/plain": [
       "array([1, 1, 1, 0, 0, 0, 1, 0, 1, 0, 1, 1, 0, 1, 1, 1, 1, 0, 0, 1, 0, 0,\n",
       "       1, 1, 0, 0, 0, 1, 1, 1, 1, 0, 0, 0, 1, 0, 0, 1, 0, 0, 1, 0, 1, 1,\n",
       "       1, 0, 0, 1, 1, 1])"
      ]
     },
     "execution_count": 15,
     "metadata": {},
     "output_type": "execute_result"
    }
   ],
   "source": [
    "quantum_algorithm()"
   ]
  },
  {
   "cell_type": "code",
   "execution_count": null,
   "id": "30add1a9-60e9-4362-99ed-1d761596bc1a",
   "metadata": {},
   "outputs": [],
   "source": []
  }
 ],
 "metadata": {
  "kernelspec": {
   "display_name": "Python 3 (ipykernel)",
   "language": "python",
   "name": "python3"
  },
  "language_info": {
   "codemirror_mode": {
    "name": "ipython",
    "version": 3
   },
   "file_extension": ".py",
   "mimetype": "text/x-python",
   "name": "python",
   "nbconvert_exporter": "python",
   "pygments_lexer": "ipython3",
   "version": "3.9.7"
  }
 },
 "nbformat": 4,
 "nbformat_minor": 5
}
