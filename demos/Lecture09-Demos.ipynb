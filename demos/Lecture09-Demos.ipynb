{
 "cells": [
  {
   "cell_type": "markdown",
   "id": "2944e1a3-aae3-40ed-ad15-b9002c1aac81",
   "metadata": {},
   "source": [
    "# Demos: Lecture 09"
   ]
  },
  {
   "cell_type": "code",
   "execution_count": 1,
   "id": "bf787988-6a84-436f-98ed-43e3c0d186b4",
   "metadata": {},
   "outputs": [],
   "source": [
    "import pennylane as qml\n",
    "import numpy as np"
   ]
  },
  {
   "cell_type": "markdown",
   "id": "6160520c-3db8-467a-a6bc-3fd8e1ce9d54",
   "metadata": {},
   "source": [
    "## Demo 1: Deutsch's algorithm"
   ]
  },
  {
   "cell_type": "markdown",
   "id": "e27598eb-14fb-4988-b463-64f2e184540f",
   "metadata": {},
   "source": [
    "\n",
    "<img src=\"fig/deutsch_2.png\">"
   ]
  },
  {
   "cell_type": "code",
   "execution_count": 2,
   "id": "5aafd8d0-f2f1-40f3-8094-4d8e7f269d6e",
   "metadata": {},
   "outputs": [],
   "source": [
    "def oracle(func=1):\n",
    "    # 1: f(0) = f(1) = 0\n",
    "    # Do nothing!\n",
    "    \n",
    "    # 2: f(0) = f(1) = 1\n",
    "    if func == 2:\n",
    "        qml.CNOT(wires=[0, 1])\n",
    "        qml.PauliX(wires=0)\n",
    "        qml.CNOT(wires=[0, 1])\n",
    "        qml.PauliX(wires=0)\n",
    "        \n",
    "    # 3: f(0) = 0, f(1) = 1\n",
    "    if func == 3:\n",
    "        qml.CNOT(wires=[0, 1])\n",
    "        \n",
    "    # 4: f(0) = 1, f(1) = 0\n",
    "    if func == 4:\n",
    "        qml.PauliX(wires=0)\n",
    "        qml.CNOT(wires=[0, 1])\n",
    "        qml.PauliX(wires=0)"
   ]
  },
  {
   "cell_type": "code",
   "execution_count": 5,
   "id": "d156d5d7-a082-4198-a5ce-55a1c10df14f",
   "metadata": {},
   "outputs": [],
   "source": [
    "dev = qml.device(\"default.qubit\", wires=2, shots=1)\n",
    "\n",
    "@qml.qnode(dev)\n",
    "def deutsch(func):\n",
    "    # Prepare in |+>|->\n",
    "    qml.Hadamard(wires=0)\n",
    "    qml.PauliX(wires=1)\n",
    "    qml.Hadamard(wires=1)\n",
    "    \n",
    "    # Query the oracle\n",
    "    oracle(func)\n",
    "    \n",
    "    # Basis rotation to measure in Hadamard basis\n",
    "    qml.Hadamard(wires=0)\n",
    "    \n",
    "    return qml.sample(wires=0)"
   ]
  },
  {
   "cell_type": "code",
   "execution_count": 7,
   "id": "adef3f4a-1044-461e-ac53-2bd2ab17e5f4",
   "metadata": {},
   "outputs": [
    {
     "data": {
      "text/plain": [
       "tensor(0, requires_grad=True)"
      ]
     },
     "execution_count": 7,
     "metadata": {},
     "output_type": "execute_result"
    }
   ],
   "source": [
    "deutsch(1)"
   ]
  },
  {
   "cell_type": "code",
   "execution_count": 10,
   "id": "3cf979eb-1b26-43ff-bac9-3656cfb60825",
   "metadata": {},
   "outputs": [
    {
     "data": {
      "text/plain": [
       "tensor(0, requires_grad=True)"
      ]
     },
     "execution_count": 10,
     "metadata": {},
     "output_type": "execute_result"
    }
   ],
   "source": [
    "deutsch(2)"
   ]
  },
  {
   "cell_type": "code",
   "execution_count": 11,
   "id": "01544de2-09b4-4861-b57d-44659a1d2e77",
   "metadata": {},
   "outputs": [
    {
     "data": {
      "text/plain": [
       "tensor(1, requires_grad=True)"
      ]
     },
     "execution_count": 11,
     "metadata": {},
     "output_type": "execute_result"
    }
   ],
   "source": [
    "deutsch(3)"
   ]
  },
  {
   "cell_type": "code",
   "execution_count": 12,
   "id": "dade7c59-66fd-4266-b632-b55f1aa94f8a",
   "metadata": {},
   "outputs": [
    {
     "data": {
      "text/plain": [
       "tensor(1, requires_grad=True)"
      ]
     },
     "execution_count": 12,
     "metadata": {},
     "output_type": "execute_result"
    }
   ],
   "source": [
    "deutsch(4)"
   ]
  },
  {
   "cell_type": "code",
   "execution_count": null,
   "id": "f1f67be3-2b75-4cb6-8471-584a1012ce66",
   "metadata": {},
   "outputs": [],
   "source": [
    "@qml.qnode(dev)\n",
    "def deutsch():\n",
    "    # Prepare in |+>|->\n",
    "    qml.Hadamard(wires=0)\n",
    "    qml.PauliX(wires=1)\n",
    "    qml.Hadamard(wires=1)\n",
    "    \n",
    "    # Query the oracle\n",
    "    oracle()\n",
    "    \n",
    "    # Basis rotation to measure in Hadamard basis\n",
    "    qml.Hadamard(wires=0)\n",
    "    \n",
    "    return qml.sample(wires=0)"
   ]
  }
 ],
 "metadata": {
  "kernelspec": {
   "display_name": "Python 3 (ipykernel)",
   "language": "python",
   "name": "python3"
  },
  "language_info": {
   "codemirror_mode": {
    "name": "ipython",
    "version": 3
   },
   "file_extension": ".py",
   "mimetype": "text/x-python",
   "name": "python",
   "nbconvert_exporter": "python",
   "pygments_lexer": "ipython3",
   "version": "3.9.12"
  }
 },
 "nbformat": 4,
 "nbformat_minor": 5
}
