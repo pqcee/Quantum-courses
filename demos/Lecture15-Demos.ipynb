{
 "cells": [
  {
   "cell_type": "markdown",
   "metadata": {},
   "source": [
    "# Demos: Lecture 15"
   ]
  },
  {
   "cell_type": "code",
   "execution_count": 1,
   "metadata": {},
   "outputs": [],
   "source": [
    "import pennylane as qml\n",
    "from pennylane import numpy as np"
   ]
  },
  {
   "cell_type": "markdown",
   "metadata": {},
   "source": [
    "## Demo 1: Quantum phase estimation"
   ]
  },
  {
   "cell_type": "markdown",
   "metadata": {},
   "source": [
    "<img src=\"fig/qpe_full.png\" width=\"800px\">\n"
   ]
  },
  {
   "cell_type": "code",
   "execution_count": 2,
   "metadata": {},
   "outputs": [],
   "source": [
    "T = np.diag([1, np.exp(1j * np.pi/4)])\n",
    "U = np.kron(T, np.kron(T, T))"
   ]
  },
  {
   "cell_type": "code",
   "execution_count": 3,
   "metadata": {},
   "outputs": [],
   "source": [
    "eigvals, eigvecs = np.linalg.eig(U)"
   ]
  },
  {
   "cell_type": "code",
   "execution_count": 4,
   "metadata": {},
   "outputs": [],
   "source": [
    "target_eigvec = eigvecs[:, -1]\n",
    "target_eigval = eigvals[-1]"
   ]
  },
  {
   "cell_type": "code",
   "execution_count": 5,
   "metadata": {},
   "outputs": [
    {
     "data": {
      "text/plain": [
       "tensor([0.+0.j, 0.+0.j, 0.+0.j, 0.+0.j, 0.+0.j, 0.+0.j, 0.+0.j, 1.+0.j], requires_grad=True)"
      ]
     },
     "execution_count": 5,
     "metadata": {},
     "output_type": "execute_result"
    }
   ],
   "source": [
    "target_eigvec"
   ]
  },
  {
   "cell_type": "code",
   "execution_count": 6,
   "metadata": {},
   "outputs": [
    {
     "data": {
      "text/plain": [
       "(-0.7071067811865474+0.7071067811865477j)"
      ]
     },
     "execution_count": 6,
     "metadata": {},
     "output_type": "execute_result"
    }
   ],
   "source": [
    "target_eigval"
   ]
  },
  {
   "cell_type": "code",
   "execution_count": 7,
   "metadata": {},
   "outputs": [
    {
     "data": {
      "text/plain": [
       "0.375"
      ]
     },
     "execution_count": 7,
     "metadata": {},
     "output_type": "execute_result"
    }
   ],
   "source": [
    "np.angle(target_eigval) / (2 * np.pi) # 001"
   ]
  },
  {
   "cell_type": "code",
   "execution_count": 8,
   "metadata": {},
   "outputs": [],
   "source": [
    "estimation_wires = range(3)\n",
    "target_wires = range(3, 6)"
   ]
  },
  {
   "cell_type": "code",
   "execution_count": 9,
   "metadata": {},
   "outputs": [],
   "source": [
    "dev = qml.device('default.qubit', wires=6, shots=1)"
   ]
  },
  {
   "cell_type": "code",
   "execution_count": 10,
   "metadata": {},
   "outputs": [],
   "source": [
    "@qml.qnode(dev)\n",
    "def quantum_phase_estimation():\n",
    "    # Prepare uniform sup on estimation wires\n",
    "    for wire in estimation_wires:\n",
    "        qml.Hadamard(wires=wire)\n",
    "    \n",
    "    # Prepare eigenstate on target wires\n",
    "    qml.MottonenStatePreparation(target_eigvec, wires=target_wires)\n",
    "    \n",
    "    # Apply controlled rotations\n",
    "    for control_wire in estimation_wires:\n",
    "        some_power = 2 ** (len(estimation_wires) - control_wire - 1)\n",
    "        qml.ControlledQubitUnitary(\n",
    "            np.linalg.matrix_power(U, some_power),\n",
    "            control_wires=control_wire,\n",
    "            wires=target_wires\n",
    "        )\n",
    "    \n",
    "    # Apply inverse QFT to estimation wires\n",
    "    qml.adjoint(qml.QFT)(wires=estimation_wires)\n",
    "    \n",
    "    return qml.sample(wires=estimation_wires)"
   ]
  },
  {
   "cell_type": "code",
   "execution_count": 11,
   "metadata": {},
   "outputs": [
    {
     "data": {
      "text/plain": [
       "array([0, 1, 1])"
      ]
     },
     "execution_count": 11,
     "metadata": {},
     "output_type": "execute_result"
    }
   ],
   "source": [
    "quantum_phase_estimation()"
   ]
  },
  {
   "cell_type": "code",
   "execution_count": 12,
   "metadata": {},
   "outputs": [],
   "source": [
    "@qml.qnode(dev)\n",
    "def qpe_from_template():\n",
    "    qml.MottonenStatePreparation(target_eigvec, wires=target_wires)\n",
    "    qml.QuantumPhaseEstimation(U, target_wires=target_wires, estimation_wires=estimation_wires)\n",
    "    return qml.sample(wires=estimation_wires)"
   ]
  },
  {
   "cell_type": "code",
   "execution_count": 13,
   "metadata": {},
   "outputs": [
    {
     "data": {
      "text/plain": [
       "array([0, 1, 1])"
      ]
     },
     "execution_count": 13,
     "metadata": {},
     "output_type": "execute_result"
    }
   ],
   "source": [
    "qpe_from_template()"
   ]
  },
  {
   "cell_type": "markdown",
   "metadata": {
    "tags": []
   },
   "source": [
    "## Demo 2: Order finding"
   ]
  },
  {
   "cell_type": "code",
   "execution_count": 14,
   "metadata": {},
   "outputs": [],
   "source": [
    "from lecture15_helpers  import *"
   ]
  },
  {
   "cell_type": "code",
   "execution_count": 15,
   "metadata": {},
   "outputs": [],
   "source": [
    "N = 7\n",
    "a = 5"
   ]
  },
  {
   "cell_type": "code",
   "execution_count": 16,
   "metadata": {},
   "outputs": [],
   "source": [
    "U_Na = get_U_Na(a, N)\n",
    "\n",
    "num_estimation_qubits = 10\n",
    "num_target_qubits = int(np.log2(len(U_Na)))\n",
    "\n",
    "estimation_wires = range(num_estimation_qubits)\n",
    "target_wires = range(num_estimation_qubits, num_estimation_qubits + num_target_qubits)\n",
    "\n",
    "dev = qml.device('default.qubit', wires=num_estimation_qubits+num_target_qubits, shots=1)"
   ]
  },
  {
   "cell_type": "code",
   "execution_count": 17,
   "metadata": {},
   "outputs": [],
   "source": [
    "@qml.qnode(dev)\n",
    "def find_order():\n",
    "    # Prepare the target register in some state\n",
    "    qml.PauliX(wires=target_wires[-1])\n",
    "\n",
    "    # Run QPE\n",
    "    qml.QuantumPhaseEstimation(\n",
    "        U_Na,\n",
    "        target_wires=target_wires,\n",
    "        estimation_wires=estimation_wires\n",
    "    )\n",
    "\n",
    "    return qml.sample(wires=estimation_wires)"
   ]
  },
  {
   "cell_type": "code",
   "execution_count": 18,
   "metadata": {},
   "outputs": [],
   "source": [
    "possible_r = []\n",
    "\n",
    "for _ in range(10):\n",
    "    sample = find_order()\n",
    "    phase = fractional_binary_to_float(sample)\n",
    "    est_r = phase_to_order(phase, N)\n",
    "    possible_r.append(est_r)"
   ]
  },
  {
   "cell_type": "code",
   "execution_count": 19,
   "metadata": {},
   "outputs": [
    {
     "data": {
      "text/plain": [
       "[6, 2, 2, 6, 1, 3, 6, 6, 3, 6]"
      ]
     },
     "execution_count": 19,
     "metadata": {},
     "output_type": "execute_result"
    }
   ],
   "source": [
    "possible_r"
   ]
  },
  {
   "cell_type": "markdown",
   "metadata": {},
   "source": [
    "## Demo 3: Shor's algorithm"
   ]
  },
  {
   "cell_type": "code",
   "execution_count": 22,
   "metadata": {},
   "outputs": [],
   "source": [
    "def run_order_finding(a, N):\n",
    "    U_Na = get_U_Na(a, N)\n",
    "    \n",
    "    num_estimation_qubits = 10\n",
    "    num_target_qubits = int(np.log2(len(U_Na)))\n",
    "    \n",
    "    estimation_wires = range(num_estimation_qubits)\n",
    "    target_wires = range(num_estimation_qubits, num_estimation_qubits + num_target_qubits)\n",
    "    \n",
    "    dev = qml.device('default.qubit', wires=num_estimation_qubits+num_target_qubits, shots=1)\n",
    "    \n",
    "    @qml.qnode(dev)\n",
    "    def find_order():\n",
    "        # Prepare the target register in some state\n",
    "        qml.PauliX(wires=target_wires[-1])\n",
    "    \n",
    "        # Run QPE\n",
    "        qml.QuantumPhaseEstimation(\n",
    "            U_Na,\n",
    "            target_wires=target_wires,\n",
    "            estimation_wires=estimation_wires\n",
    "        )\n",
    "    \n",
    "        return qml.sample(wires=estimation_wires)\n",
    "\n",
    "    sample = find_order()\n",
    "    phase = fractional_binary_to_float(sample)\n",
    "    est_r = phase_to_order(phase, N)\n",
    "\n",
    "    return est_r"
   ]
  },
  {
   "cell_type": "markdown",
   "metadata": {},
   "source": [
    "<img src=\"fig/shor-flowchart.jpeg\" width=\"300px\">"
   ]
  },
  {
   "cell_type": "code",
   "execution_count": 23,
   "metadata": {},
   "outputs": [],
   "source": [
    "max_its = 10\n",
    "\n",
    "def shors_algorithm(N):\n",
    "    \n",
    "    for _ in range(max_its):\n",
    "        # Choose a random a in the range {2, N - 2}\n",
    "        a = np.random.choice(list(range(2, N - 1)))\n",
    "        print(f\"Chose a={a}\")\n",
    "\n",
    "        # Check if not co-prime (lucky!)\n",
    "        if not np.gcd(a, N) == 1:\n",
    "            p = np.gcd(a, N)\n",
    "            q = N // p\n",
    "            print(\"We were lucky\")\n",
    "            return p, q\n",
    "\n",
    "        for it in range(100):\n",
    "            # Find the period r\n",
    "            r = run_order_finding(a, N)\n",
    "            \n",
    "            # If r is odd, restart and choose a different a\n",
    "            if r % 2 == 1:\n",
    "                continue\n",
    "    \n",
    "            # Otherwise, compute x = a ^ (r/2) mod N\n",
    "            x = a ** (r // 2) % N\n",
    "            \n",
    "            if x == 1 % N or x == N - 1:\n",
    "                continue\n",
    "            else:\n",
    "                p = np.gcd(x - 1, N)\n",
    "                q = np.gcd(x + 1, N)\n",
    "                \n",
    "                if p * q == N:\n",
    "                    print(f\"Found solution after {it+1} shots:\")\n",
    "                    print(f\"r = {r}, x = {x}\")\n",
    "                    print(f\"p = {p}, q = {q}\")\n",
    "                    return p, q"
   ]
  },
  {
   "cell_type": "code",
   "execution_count": 28,
   "metadata": {},
   "outputs": [
    {
     "name": "stdout",
     "output_type": "stream",
     "text": [
      "Chose a=10\n",
      "Chose a=30\n",
      "Chose a=18\n",
      "Found solution after 10 shots:\n",
      "r = 30, x = 43\n",
      "p = 7, q = 11\n"
     ]
    }
   ],
   "source": [
    "N = 77\n",
    "\n",
    "p, q = shors_algorithm(N)"
   ]
  },
  {
   "cell_type": "code",
   "execution_count": null,
   "metadata": {},
   "outputs": [],
   "source": []
  },
  {
   "cell_type": "code",
   "execution_count": null,
   "metadata": {},
   "outputs": [],
   "source": []
  }
 ],
 "metadata": {
  "kernelspec": {
   "display_name": "Python 3 (ipykernel)",
   "language": "python",
   "name": "python3"
  },
  "language_info": {
   "codemirror_mode": {
    "name": "ipython",
    "version": 3
   },
   "file_extension": ".py",
   "mimetype": "text/x-python",
   "name": "python",
   "nbconvert_exporter": "python",
   "pygments_lexer": "ipython3",
   "version": "3.10.13"
  }
 },
 "nbformat": 4,
 "nbformat_minor": 4
}
