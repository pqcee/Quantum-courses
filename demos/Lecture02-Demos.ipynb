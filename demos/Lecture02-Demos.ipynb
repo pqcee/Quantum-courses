{
 "cells": [
  {
   "cell_type": "markdown",
   "id": "877db40a-e5e9-462a-84e5-0e2f52b93597",
   "metadata": {},
   "source": [
    "# Demos: Lecture 2"
   ]
  },
  {
   "cell_type": "markdown",
   "id": "d7f6550f-3b76-4b19-8bd1-e41bbe7cab4c",
   "metadata": {},
   "source": [
    "## Demo 1: QNodes"
   ]
  },
  {
   "cell_type": "markdown",
   "id": "fa6c1c7d-d6ec-4170-ba10-731ff6ead12c",
   "metadata": {},
   "source": [
    "<img src=\"fig/xzh.png\" width=300>"
   ]
  },
  {
   "cell_type": "code",
   "execution_count": 2,
   "id": "34744e23-7a81-497a-989e-691feed16eaa",
   "metadata": {},
   "outputs": [],
   "source": [
    "import pennylane as qml"
   ]
  },
  {
   "cell_type": "code",
   "execution_count": 14,
   "id": "31743d0d-a39b-4963-85b2-b75706669cac",
   "metadata": {},
   "outputs": [],
   "source": [
    "def my_quantum_function():\n",
    "    qml.Hadamard(wires=0)\n",
    "    qml.PauliZ(wires=0)\n",
    "    qml.PauliX(wires=0)\n",
    "    #return qml.sample()\n",
    "    return qml.state()"
   ]
  },
  {
   "cell_type": "code",
   "execution_count": 17,
   "id": "c5d36a04-4322-4e2d-a111-ef113cee9ac9",
   "metadata": {},
   "outputs": [],
   "source": [
    "#dev = qml.device(\"default.qubit\", wires=1, shots=20)\n",
    "dev = qml.device(\"default.qubit\", wires=1)"
   ]
  },
  {
   "cell_type": "code",
   "execution_count": 18,
   "id": "e03123c1-593b-48e2-b27a-6cd90d46c744",
   "metadata": {},
   "outputs": [],
   "source": [
    "my_qnode = qml.QNode(my_quantum_function, dev)"
   ]
  },
  {
   "cell_type": "code",
   "execution_count": 19,
   "id": "f946f59a-5abb-4464-818f-07a446940184",
   "metadata": {},
   "outputs": [
    {
     "data": {
      "text/plain": [
       "tensor([-0.70710678+0.j,  0.70710678+0.j], requires_grad=True)"
      ]
     },
     "execution_count": 19,
     "metadata": {},
     "output_type": "execute_result"
    }
   ],
   "source": [
    "my_qnode()"
   ]
  },
  {
   "cell_type": "markdown",
   "id": "dacdd8f6-8ef0-4cb6-83b4-947df3d01713",
   "metadata": {},
   "source": [
    "## Exercise 1: state preparation"
   ]
  },
  {
   "cell_type": "markdown",
   "id": "e101b5e3-c666-4432-8855-bd20afd3347e",
   "metadata": {},
   "source": [
    "Write a QNode that prepares the quantum state\n",
    "\n",
    "$$\n",
    "\\begin{equation*}\n",
    "|\\psi \\rangle = \\frac{\\sqrt{3}}{2}|0 \\rangle  - \\frac{1}{2} e^{i\\frac{5}{4}}| 1\\rangle \n",
    "\\end{equation*}\n",
    "$$\n",
    "\n",
    "Run it on an ideal simulated device (do not set `shots`), and return `qml.state()`. "
   ]
  },
  {
   "cell_type": "code",
   "execution_count": 22,
   "id": "818220a4-036c-433c-a4d8-73c57af03ef2",
   "metadata": {},
   "outputs": [],
   "source": [
    "import numpy as np"
   ]
  },
  {
   "cell_type": "code",
   "execution_count": 58,
   "id": "18b32247-1868-4e5b-b157-9990cdea32bb",
   "metadata": {},
   "outputs": [],
   "source": [
    "dev = qml.device('default.qubit', wires=1)\n",
    "\n",
    "@qml.qnode(dev)\n",
    "def prepare_example_state():\n",
    "    qml.RY(np.pi/3, wires=0)\n",
    "    qml.RZ(5/4, wires=0) # I put 5/8 initially; that was wrong!\n",
    "    qml.PauliZ(wires=0)\n",
    "    return qml.state()"
   ]
  },
  {
   "cell_type": "code",
   "execution_count": 59,
   "id": "83ee7943-ffaf-47d0-87e7-80f14cec606b",
   "metadata": {},
   "outputs": [],
   "source": [
    "state = prepare_example_state()"
   ]
  },
  {
   "cell_type": "code",
   "execution_count": 60,
   "id": "2f5464d7-0414-4da1-b482-869c5a21699e",
   "metadata": {},
   "outputs": [
    {
     "data": {
      "text/plain": [
       "tensor([ 0.70231466-0.5067091j , -0.40548156-0.29254864j], requires_grad=True)"
      ]
     },
     "execution_count": 60,
     "metadata": {},
     "output_type": "execute_result"
    }
   ],
   "source": [
    "state"
   ]
  },
  {
   "cell_type": "code",
   "execution_count": 61,
   "id": "16587de1-560e-457e-9611-b9efbb258c68",
   "metadata": {},
   "outputs": [
    {
     "data": {
      "text/plain": [
       "tensor([0.8660254, 0.5      ], requires_grad=True)"
      ]
     },
     "execution_count": 61,
     "metadata": {},
     "output_type": "execute_result"
    }
   ],
   "source": [
    "np.abs(state)"
   ]
  },
  {
   "cell_type": "code",
   "execution_count": 62,
   "id": "d43fc6a2-ff52-44a2-b95c-81b4bc954fcf",
   "metadata": {},
   "outputs": [
    {
     "data": {
      "text/plain": [
       "tensor([-0.625     , -2.51659265], requires_grad=True)"
      ]
     },
     "execution_count": 62,
     "metadata": {},
     "output_type": "execute_result"
    }
   ],
   "source": [
    "np.angle(state)"
   ]
  },
  {
   "cell_type": "markdown",
   "id": "58f76634-e848-443c-a9ea-74530439eca2",
   "metadata": {},
   "source": [
    "Note that the global phase is included here: the phase on $|0\\rangle$ is -5/8, and on $|1\\rangle$, it is $(5/8 - \\pi)$, since $e^{-i\\pi} = -1$"
   ]
  },
  {
   "cell_type": "markdown",
   "id": "f6b15ea9-6c9b-455f-9747-072a11797b47",
   "metadata": {},
   "source": [
    "## Exercise 2: relative phase"
   ]
  },
  {
   "cell_type": "markdown",
   "id": "c56a6ae9-d910-4188-886d-8db9c1f7dc84",
   "metadata": {},
   "source": [
    "Implement the circuit in the picture. Run it on a device with 1000 shots, and try two different values of $\\theta$. How does $\\theta$ affect the measurement outcome probabilites?\n",
    "\n",
    "<img src=\"fig/exercise-circuit.png\" width=300>"
   ]
  },
  {
   "cell_type": "code",
   "execution_count": 71,
   "id": "d3fe67d6-8d76-4cb1-9e79-f022fb39b6c9",
   "metadata": {},
   "outputs": [],
   "source": [
    "dev = qml.device(\"default.qubit\", wires=1, shots=1000)\n",
    "\n",
    "@qml.qnode(dev)\n",
    "def apply_circuit(z):\n",
    "    qml.Hadamard(wires=0)\n",
    "    qml.RZ(z, wires=0)\n",
    "    return qml.probs(wires=0)"
   ]
  },
  {
   "cell_type": "code",
   "execution_count": 72,
   "id": "fef36eb9-758c-4795-ae35-d087013dd115",
   "metadata": {},
   "outputs": [
    {
     "data": {
      "text/plain": [
       "array([0.487, 0.513])"
      ]
     },
     "execution_count": 72,
     "metadata": {},
     "output_type": "execute_result"
    }
   ],
   "source": [
    "apply_circuit(0.3)"
   ]
  },
  {
   "cell_type": "code",
   "execution_count": 73,
   "id": "7454f57f-a7b5-4c7a-a456-d5be6d15c27e",
   "metadata": {},
   "outputs": [
    {
     "data": {
      "text/plain": [
       "array([0.49, 0.51])"
      ]
     },
     "execution_count": 73,
     "metadata": {},
     "output_type": "execute_result"
    }
   ],
   "source": [
    "apply_circuit(1.3)"
   ]
  }
 ],
 "metadata": {
  "kernelspec": {
   "display_name": "Python 3 (ipykernel)",
   "language": "python",
   "name": "python3"
  },
  "language_info": {
   "codemirror_mode": {
    "name": "ipython",
    "version": 3
   },
   "file_extension": ".py",
   "mimetype": "text/x-python",
   "name": "python",
   "nbconvert_exporter": "python",
   "pygments_lexer": "ipython3",
   "version": "3.12.0"
  }
 },
 "nbformat": 4,
 "nbformat_minor": 5
}
